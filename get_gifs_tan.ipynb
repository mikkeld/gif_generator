{
 "cells": [
  {
   "cell_type": "markdown",
   "metadata": {},
   "source": [
    "#### Data Collecting and Pre-Processing\n",
    "##### Crawling data from giphy via their API. \n",
    "##### Convert .gif image to VGG final dense layer\n"
   ]
  },
  {
   "cell_type": "code",
   "execution_count": null,
   "metadata": {},
   "outputs": [],
   "source": [
    "import numpy as np\n",
    "import pandas as pd\n",
    "import matplotlib.pyplot as pyplot\n",
    "import matplotlib.image as Image\n",
    "import keras\n",
    "import json,urllib,os,sys\n",
    "%matplotlib inline\n",
    "from scipy.misc import imresize\n",
    "from datetime import datetime, timedelta\n",
    "import h5py as h5py\n",
    "try:\n",
    "    utils\n",
    "except:\n",
    "    import utils\n",
    "else:    \n",
    "    reload(utils)\n",
    "    print 'utils has been reloaded'"
   ]
  },
  {
   "cell_type": "code",
   "execution_count": null,
   "metadata": {
    "collapsed": true
   },
   "outputs": [],
   "source": [
    "# EMBEDDING CLASS TO BE USED\n",
    "class Embedding:\n",
    "    def __init__(self, topology='vgg16'):\n",
    "        self.topology = topology\n",
    "        self.network = keras.applications.vgg16.VGG16(include_top=True, weights='imagenet',\n",
    "                                                      input_tensor=None, input_shape=None,\n",
    "                                                      pooling=None, classes=1000)\n",
    "        self.network.layers.pop() # Get rid of the classification layer\n",
    "        self.network.outputs = [self.network.layers[-1].output]\n",
    "        self.network.layers[-1].outbound_nodes = []\n",
    "        for layer in self.network.layers: layer.trainable=False\n",
    "    def get_vector(self, batch):\n",
    "        return self.network.predict(batch)"
   ]
  },
  {
   "cell_type": "code",
   "execution_count": null,
   "metadata": {},
   "outputs": [],
   "source": [
    "API_KEY = 'J9rmStnqj0ZhQFObVxh81O84hb7UQZjY'\n",
    "N_FILES = 100\n",
    "SEARCH_TERM = 'human'\n",
    "api_path = \"http://api.giphy.com/v1/gifs/search?q={}&api_key={}&limit={}\".format(SEARCH_TERM,\n",
    "                                                                                 API_KEY,\n",
    "                                                                                 N_FILES)\n",
    "data = json.loads(urllib.urlopen(api_path).read())\n",
    "utils.save_files(data, SEARCH_TERM)"
   ]
  },
  {
   "cell_type": "code",
   "execution_count": null,
   "metadata": {
    "collapsed": true
   },
   "outputs": [],
   "source": [
    "embeddings = Embedding()"
   ]
  },
  {
   "cell_type": "code",
   "execution_count": null,
   "metadata": {},
   "outputs": [],
   "source": [
    "# Pre-process gif to series of images which can be \n",
    "# fed to netwok.\n",
    "files = os.listdir('gifs')\n",
    "seq_length = 11 # 10 for training, 1 for the target\n",
    "for idx, gif_file in enumerate(files):\n",
    "    if '.gif' in gif_file:\n",
    "        gif_file_path  = 'gifs/'+gif_file\n",
    "        frames = utils.processImage(gif_file_path,\n",
    "                                    reshape_to_vgg=True,\n",
    "                                    image_limit=20)\n",
    "        if not frames.shape[0] < 11:\n",
    "            embedding_matrix = embeddings.get_vector(frames)\n",
    "            max_index = embedding_matrix.shape[0]\n",
    "            data_arr = []\n",
    "            for i in range(max_index - seq_length + 1):\n",
    "                start_ix = i\n",
    "                end_ix = i+seq_length\n",
    "                target_ix = end_ix\n",
    "                data_arr.append(embedding_matrix[start_ix:end_ix,:])\n",
    "            data_set = utils.Dataset(root_dir='data/gifs_300')\n",
    "            data_set.add(data_arr)\n",
    "            print 'Processed %i of %i'%(idx,len(files))\n",
    "        else:\n",
    "            print '%s has less than %i frames, skipping.'%(gif_file,seq_length)\n",
    "        # pyplot.imshow(frames[0])"
   ]
  }
 ],
 "metadata": {
  "kernelspec": {
   "display_name": "Python 2",
   "language": "python",
   "name": "python2"
  },
  "language_info": {
   "codemirror_mode": {
    "name": "ipython",
    "version": 2
   },
   "file_extension": ".py",
   "mimetype": "text/x-python",
   "name": "python",
   "nbconvert_exporter": "python",
   "pygments_lexer": "ipython2",
   "version": "2.7.10"
  }
 },
 "nbformat": 4,
 "nbformat_minor": 2
}
