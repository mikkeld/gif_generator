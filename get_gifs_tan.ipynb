{
 "cells": [
  {
   "cell_type": "code",
   "execution_count": 72,
   "metadata": {},
   "outputs": [
    {
     "name": "stdout",
     "output_type": "stream",
     "text": [
      "utils has been reloaded\n"
     ]
    }
   ],
   "source": [
    "import numpy as np\n",
    "import pandas as pd\n",
    "import matplotlib.pyplot as pyplot\n",
    "import matplotlib.image as Image\n",
    "import keras\n",
    "%matplotlib inline\n",
    "import bcolz\n",
    "from scipy.misc import imresize\n",
    "from datetime import datetime, timedelta\n",
    "import h5py as h5py\n",
    "try:\n",
    "    utils\n",
    "except:\n",
    "    import utils\n",
    "else:    \n",
    "    reload(utils)\n",
    "    print 'utils has been reloaded'"
   ]
  },
  {
   "cell_type": "code",
   "execution_count": 73,
   "metadata": {
    "collapsed": true
   },
   "outputs": [],
   "source": [
    "# EMBEDDING CLASS TO BE USED\n",
    "class Embedding:\n",
    "    def __init__(self, topology='vgg16'):\n",
    "        self.topology = topology\n",
    "        self.network = keras.applications.vgg16.VGG16(include_top=True, weights='imagenet',\n",
    "                                                      input_tensor=None,input_shape=None,\n",
    "                                                      pooling=None, classes=1000)\n",
    "        self.network.layers.pop() # Get rid of the classification layer\n",
    "        self.network.outputs = [self.network.layers[-1].output]\n",
    "        self.network.layers[-1].outbound_nodes = []\n",
    "        for layer in self.network.layers: layer.trainable=False\n",
    "    def get_vector(self, batch):\n",
    "        return self.network.predict(batch)"
   ]
  },
  {
   "cell_type": "code",
   "execution_count": null,
   "metadata": {
    "collapsed": true
   },
   "outputs": [],
   "source": [
    "API_KEY = 'J9rmStnqj0ZhQFObVxh81O84hb7UQZjY'\n",
    "N_FILES = 100\n",
    "SEARCH_TERM = 'cat'\n",
    "api_path = \"http://api.giphy.com/v1/gifs/search?q={}&api_key={}&limit={}\".format(SEARCH_TERM, API_KEY, N_FILES)\n",
    "data = json.loads(urllib.urlopen(api_path).read())\n",
    "utils.save_files(data,SEARCH_TERM)"
   ]
  },
  {
   "cell_type": "code",
   "execution_count": null,
   "metadata": {},
   "outputs": [],
   "source": [
    "import os\n",
    "for gif_file in os.listdir('gifs'):\n",
    "    gif_file_path 'gifs/'+gif_file"
   ]
  },
  {
   "cell_type": "code",
   "execution_count": null,
   "metadata": {},
   "outputs": [],
   "source": [
    "# Pre-process gif to series of images which can be \n",
    "# fed to netwok.\n",
    "gif_file = 'cat_93.gif'\n",
    "gif_file_path = 'gifs/'+gif_file\n",
    "frames = utils.processImage(gif_file_path,\n",
    "                            reshape_to_vgg=True,\n",
    "                            image_limit=20)\n",
    "print np.shape(frames)\n",
    "pyplot.imshow(frames[0])"
   ]
  },
  {
   "cell_type": "code",
   "execution_count": null,
   "metadata": {
    "collapsed": true
   },
   "outputs": [],
   "source": [
    "embeddings = Embedding()"
   ]
  },
  {
   "cell_type": "code",
   "execution_count": 32,
   "metadata": {},
   "outputs": [
    {
     "data": {
      "text/plain": [
       "0.19"
      ]
     },
     "execution_count": 32,
     "metadata": {},
     "output_type": "execute_result"
    }
   ],
   "source": [
    "# start_time = datetime.now()\n",
    "embedding_matrix = embeddings.get_vector(frames)\n",
    "# round(timedelta.total_seconds(datetime.now()-start_time)/60,2)"
   ]
  },
  {
   "cell_type": "code",
   "execution_count": 43,
   "metadata": {},
   "outputs": [
    {
     "data": {
      "text/plain": [
       "(11, 4096)"
      ]
     },
     "execution_count": 43,
     "metadata": {},
     "output_type": "execute_result"
    }
   ],
   "source": [
    "embedding_matrix[0:11,:].shape"
   ]
  },
  {
   "cell_type": "code",
   "execution_count": 47,
   "metadata": {},
   "outputs": [],
   "source": [
    "embedding_matrix.shape\n",
    "# in numpy slicing, last element is exclusive\n",
    "# ex x[0:2,:] = x[[0,1],:]\n",
    "max_index = embedding_matrix.shape[0]\n",
    "seq_length = 11 # 10 for training, 1 for the target\n",
    "data_arr = []\n",
    "for i in range(max_index-seq_length):\n",
    "    start_ix = i\n",
    "    end_ix = i+seq_length\n",
    "    target_ix = end_ix\n",
    "    data_arr.append(embedding_matrix[start_ix:end_ix,:])"
   ]
  },
  {
   "cell_type": "code",
   "execution_count": 48,
   "metadata": {},
   "outputs": [
    {
     "data": {
      "text/plain": [
       "(9, 11, 4096)"
      ]
     },
     "execution_count": 48,
     "metadata": {},
     "output_type": "execute_result"
    }
   ],
   "source": [
    "np.array(data_arr).shape"
   ]
  },
  {
   "cell_type": "code",
   "execution_count": 49,
   "metadata": {},
   "outputs": [],
   "source": [
    "c = bcolz.carray(data_arr, rootdir='bcolz_test2')\n",
    "c.flush()"
   ]
  },
  {
   "cell_type": "code",
   "execution_count": 51,
   "metadata": {},
   "outputs": [],
   "source": [
    "c.append(data_arr)\n",
    "c.flush()"
   ]
  },
  {
   "cell_type": "code",
   "execution_count": 55,
   "metadata": {},
   "outputs": [
    {
     "data": {
      "text/plain": [
       "(3, 11, 4096)"
      ]
     },
     "execution_count": 55,
     "metadata": {},
     "output_type": "execute_result"
    }
   ],
   "source": [
    "c[0:3,:,:].shape"
   ]
  },
  {
   "cell_type": "code",
   "execution_count": 56,
   "metadata": {
    "collapsed": true
   },
   "outputs": [],
   "source": [
    "d = bcolz.carray(rootdir='bcolz_test2')\n"
   ]
  },
  {
   "cell_type": "code",
   "execution_count": 71,
   "metadata": {},
   "outputs": [
    {
     "data": {
      "text/plain": [
       "((3, 10, 4096), (3, 1, 4096))"
      ]
     },
     "execution_count": 71,
     "metadata": {},
     "output_type": "execute_result"
    }
   ],
   "source": [
    "d.append(data_arr)\n",
    "d[[0,2,6],:,0:10].shape,d[[0,2,6],:,10:11].shape"
   ]
  },
  {
   "cell_type": "code",
   "execution_count": null,
   "metadata": {
    "collapsed": true
   },
   "outputs": [],
   "source": []
  }
 ],
 "metadata": {
  "kernelspec": {
   "display_name": "Python 2",
   "language": "python",
   "name": "python2"
  },
  "language_info": {
   "codemirror_mode": {
    "name": "ipython",
    "version": 2
   },
   "file_extension": ".py",
   "mimetype": "text/x-python",
   "name": "python",
   "nbconvert_exporter": "python",
   "pygments_lexer": "ipython2",
   "version": "2.7.10"
  }
 },
 "nbformat": 4,
 "nbformat_minor": 2
}
