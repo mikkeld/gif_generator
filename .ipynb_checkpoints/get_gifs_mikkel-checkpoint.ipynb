{
 "cells": [
  {
   "cell_type": "code",
   "execution_count": null,
   "metadata": {
    "collapsed": false
   },
   "outputs": [],
   "source": [
    "import numpy as np\n",
    "import pandas as pd\n",
    "import matplotlib.pyplot as pyplot\n",
    "import matplotlib.image as Image\n",
    "import keras\n",
    "%matplotlib inline\n",
    "import bcolz\n",
    "from scipy.misc import imresize\n",
    "if utils is None:\n",
    "    import utils\n",
    "else:    \n",
    "    reload(utils)\n",
    "    print 'utils has been reloaded'\n",
    "from datetime import datetime, timedelta"
   ]
  },
  {
   "cell_type": "code",
   "execution_count": null,
   "metadata": {
    "collapsed": true
   },
   "outputs": [],
   "source": [
    "# EMBEDDING CLASS TO BE USED\n",
    "class Embedding:\n",
    "    def __init__(self, topology='vgg16'):\n",
    "        self.topology = topology\n",
    "        self.network = keras.applications.vgg16.VGG16(include_top=True, weights='imagenet',\n",
    "                                                      input_tensor=None,input_shape=None,\n",
    "                                                      pooling=None, classes=1000)\n",
    "        self.network.layers.pop() # Get rid of the classification layer\n",
    "        self.network.outputs = [self.network.layers[-1].output]\n",
    "        self.network.layers[-1].outbound_nodes = []\n",
    "        for layer in self.network.layers: layer.trainable=False\n",
    "    def get_vector(self, batch):\n",
    "        return self.network.predict(batch)"
   ]
  },
  {
   "cell_type": "code",
   "execution_count": null,
   "metadata": {
    "collapsed": true
   },
   "outputs": [],
   "source": [
    "a = np.arange(10)\n",
    "b = bcolz.carray(a)\n",
    "c = bcolz.carray(a, rootdir='data')\n",
    "c.flush()"
   ]
  },
  {
   "cell_type": "code",
   "execution_count": null,
   "metadata": {
    "collapsed": true
   },
   "outputs": [],
   "source": [
    "API_KEY = 'J9rmStnqj0ZhQFObVxh81O84hb7UQZjY'\n",
    "N_FILES = 100\n",
    "SEARCH_TERM = 'cat'"
   ]
  },
  {
   "cell_type": "code",
   "execution_count": null,
   "metadata": {
    "collapsed": true
   },
   "outputs": [],
   "source": [
    "api_path = \"http://api.giphy.com/v1/gifs/search?q={}&api_key={}&limit={}\".format(SEARCH_TERM, API_KEY, N_FILES)\n",
    "data = json.loads(urllib.urlopen(api_path).read())"
   ]
  },
  {
   "cell_type": "code",
   "execution_count": null,
   "metadata": {
    "collapsed": true
   },
   "outputs": [],
   "source": [
    "utils.save_files(data,SEARCH_TERM)"
   ]
  },
  {
   "cell_type": "code",
   "execution_count": null,
   "metadata": {
    "collapsed": true
   },
   "outputs": [],
   "source": [
    "import os\n",
    "for gif_file in os.listdir('gifs'):\n",
    "    print 'gifs/'+gif_file"
   ]
  },
  {
   "cell_type": "code",
   "execution_count": null,
   "metadata": {
    "collapsed": false
   },
   "outputs": [],
   "source": [
    "gif_file = 'cat_93.gif'\n",
    "gif_file_path = 'gifs/'+gif_file\n",
    "frames = utils.processImage(gif_file_path, reshape_to_vgg=True)\n",
    "np.shape(frames)\n",
    "\n",
    "pyplot.imshow(frames[0])"
   ]
  },
  {
   "cell_type": "code",
   "execution_count": null,
   "metadata": {
    "collapsed": true
   },
   "outputs": [],
   "source": [
    "import h5py as h5py"
   ]
  },
  {
   "cell_type": "code",
   "execution_count": null,
   "metadata": {
    "collapsed": false
   },
   "outputs": [],
   "source": [
    "embeddings = Embedding()"
   ]
  },
  {
   "cell_type": "code",
   "execution_count": null,
   "metadata": {
    "collapsed": false
   },
   "outputs": [],
   "source": [
    "start_time = datetime.now()\n",
    "embedding_matrix = embeddings.get_vector(data)\n",
    "round(timedelta.total_seconds(datetime.now()-start_time)/60,2)"
   ]
  },
  {
   "cell_type": "code",
   "execution_count": null,
   "metadata": {
    "collapsed": false
   },
   "outputs": [],
   "source": [
    "start_time = datetime.now()\n",
    "embedding_matrix = embeddings.get_vector(frames)\n",
    "round(timedelta.total_seconds(datetime.now()-start_time)/60,2)"
   ]
  },
  {
   "cell_type": "code",
   "execution_count": null,
   "metadata": {
    "collapsed": false
   },
   "outputs": [],
   "source": [
    "embedding_matrix.shape\n",
    "# in numpy slicing, last element is exclusive\n",
    "# ex x[0:2,:] = x[[0,1],:]\n",
    "max_index = embedding_matrix.shape[0]\n",
    "seq_length = 10\n",
    "data_dict = {}\n",
    "data_arr = []\n",
    "target_arr = []\n",
    "for i in range(max_index-seq_length):\n",
    "    start_ix = i\n",
    "    end_ix = i+seq_length\n",
    "    target_ix = end_ix\n",
    "    data_arr.append(embedding_matrix[start_ix:end_ix,:])\n",
    "    target_arr.append(embedding_matrix[[target_ix],:])"
   ]
  },
  {
   "cell_type": "code",
   "execution_count": null,
   "metadata": {
    "collapsed": false
   },
   "outputs": [],
   "source": [
    "np.array(data_arr).shape,np.array(target_arr).shape"
   ]
  },
  {
   "cell_type": "markdown",
   "metadata": {},
   "source": [
    "### Preparing the data for the LSTM"
   ]
  },
  {
   "cell_type": "code",
   "execution_count": 15,
   "metadata": {
    "collapsed": true
   },
   "outputs": [],
   "source": [
    "import tensorflow as tf\n",
    "import numpy as np\n",
    "import pandas as pd"
   ]
  },
  {
   "cell_type": "code",
   "execution_count": 34,
   "metadata": {
    "collapsed": false
   },
   "outputs": [],
   "source": [
    "def toy_input_fn():\n",
    "    x = np.array([np.random.randint(high=255, low=0, size=(10,255))\n",
    "                 for _ in range(5)])\n",
    "    y = np.array([np.random.randint(high=255, low=0, size=(255))\n",
    "                  for _ in range(5)])\n",
    "    \n",
    "    return x, y                   "
   ]
  },
  {
   "cell_type": "code",
   "execution_count": 35,
   "metadata": {
    "collapsed": false
   },
   "outputs": [
    {
     "data": {
      "text/plain": [
       "((5, 10, 255), (5, 255))"
      ]
     },
     "execution_count": 35,
     "metadata": {},
     "output_type": "execute_result"
    }
   ],
   "source": [
    "x, y = toy_input_fn()\n",
    "x.shape, y.shape"
   ]
  },
  {
   "cell_type": "code",
   "execution_count": 75,
   "metadata": {
    "collapsed": true
   },
   "outputs": [],
   "source": [
    "INPUT_EMBEDDING_SIZE = 255\n",
    "OUTPUT_EMBEDDING_SIZE = 255\n",
    "IS_TRAINING = True\n",
    "N_HIDDEN = 512\n",
    "N_UNITS = 2\n",
    "N_STEPS = 10\n",
    "BATCH_SIZE = 5"
   ]
  },
  {
   "cell_type": "code",
   "execution_count": 76,
   "metadata": {
    "collapsed": false
   },
   "outputs": [],
   "source": [
    "def build_model(output_embedding_size=OUTPUT_EMBEDDING_SIZE,\n",
    "                input_embedding_size=INPUT_EMBEDDING_SIZE,\n",
    "                is_training=IS_TRAINING,\n",
    "                n_hidden=N_HIDDEN,\n",
    "                n_units=N_UNITS,\n",
    "                n_steps=N_STEPS,\n",
    "                batch_size=BATCH_SIZE):\n",
    "    \"\"\"\n",
    "    Builds the model for the LSTM model\n",
    "    :param vocab_size: Size of the vocab from the input function\n",
    "    :param is_training: Boolean, true when training\n",
    "    :param n_hidden: N hidden units\n",
    "    :param n_units: N LSTM units\n",
    "    :param embedding_size: Size of the embedding dimensions\n",
    "    :param n_steps: N timesteps we train over\n",
    "    :return:\n",
    "           predictions: Softmax prediction over words\n",
    "           loss: Loss from current batch\n",
    "           x: Placeholder for inputs\n",
    "           y: Placeholder for labels\n",
    "    \"\"\"\n",
    "  \n",
    "    with tf.name_scope(\"placeholders\"):\n",
    "        x = tf.placeholder(dtype=tf.int32, shape=[None, n_steps, input_embedding_size])\n",
    "        y = tf.placeholder(dtype=tf.int32, shape=[None, output_embedding_size])\n",
    "        seq_length = tf.placeholder(tf.int32, [None])\n",
    "\n",
    "    # Creates the actual model using embeddings as input\n",
    "    with tf.name_scope(\"model\"):\n",
    "        lstm_cells = [tf.contrib.rnn.BasicLSTMCell(num_units=n_hidden)\n",
    "                      for _ in range(n_units)]\n",
    "       \n",
    "        multi_cell = tf.contrib.rnn.MultiRNNCell(lstm_cells)\n",
    "        inputs = tf.cast(x, tf.float32)\n",
    "        outputs, states = tf.nn.dynamic_rnn(multi_cell, inputs, dtype=tf.float32)\n",
    "        top_layer_h_state = states[-1][1]\n",
    "\n",
    "        hidden1 = tf.layers.dense(top_layer_h_state, units=n_hidden, activation=tf.nn.relu)\n",
    "        dropout_1 = tf.layers.dropout(hidden1, rate=0.1, training=is_training)\n",
    "        predictions = tf.layers.dense(dropout_1, units=output_embedding_size, activation=None)\n",
    "        mse = tf.losses.mean_squared_error(\n",
    "            labels=y,\n",
    "            predictions=predictions)\n",
    "        loss = tf.reduce_mean(mse)\n",
    "\n",
    "        return predictions, loss, x, y"
   ]
  },
  {
   "cell_type": "code",
   "execution_count": 80,
   "metadata": {
    "collapsed": false
   },
   "outputs": [
    {
     "name": "stdout",
     "output_type": "stream",
     "text": [
      "[[-0.18163717 -0.09708181 -0.04113833 ...,  0.1468585  -0.16404206\n",
      "  -0.2442089 ]\n",
      " [-0.19735549 -0.00987558 -0.11963176 ...,  0.30203173 -0.04542725\n",
      "  -0.22298522]\n",
      " [-0.20527643  0.06213007 -0.05125128 ...,  0.30264187  0.08494422\n",
      "  -0.12003544]\n",
      " [-0.19180053 -0.03962021  0.02120179 ...,  0.07759659  0.04699408\n",
      "  -0.2415058 ]\n",
      " [-0.27015352  0.03498184 -0.03082781 ...,  0.15595968  0.10825367\n",
      "  -0.22291814]]\n"
     ]
    }
   ],
   "source": [
    "g = tf.Graph()\n",
    "with g.as_default():\n",
    "    sess = tf.InteractiveSession()\n",
    "    x_batch, y_batch = toy_input_fn()\n",
    "    predictions, loss, x, y = build_model()\n",
    "    sess.run(tf.global_variables_initializer())\n",
    "    predictions_out, loss_out = sess.run([predictions, loss], feed_dict={x: x_batch, y: y_batch})\n",
    "    print(predictions_out)"
   ]
  }
 ],
 "metadata": {
  "kernelspec": {
   "display_name": "Python [conda root]",
   "language": "python",
   "name": "conda-root-py"
  },
  "language_info": {
   "codemirror_mode": {
    "name": "ipython",
    "version": 3
   },
   "file_extension": ".py",
   "mimetype": "text/x-python",
   "name": "python",
   "nbconvert_exporter": "python",
   "pygments_lexer": "ipython3",
   "version": "3.5.2"
  }
 },
 "nbformat": 4,
 "nbformat_minor": 2
}
