{
 "cells": [
  {
   "cell_type": "code",
   "execution_count": 1,
   "metadata": {
    "collapsed": false
   },
   "outputs": [
    {
     "name": "stderr",
     "output_type": "stream",
     "text": [
      "Using TensorFlow backend.\n"
     ]
    }
   ],
   "source": [
    "import numpy as np\n",
    "import pandas as pd\n",
    "import matplotlib.pyplot as pyplot\n",
    "import matplotlib.image as Image\n",
    "import keras\n",
    "%matplotlib inline\n",
    "import bcolz\n",
    "from scipy.misc import imresize\n",
    "try:\n",
    "    utils\n",
    "except:\n",
    "    import utils\n",
    "else:    \n",
    "    reload(utils)\n",
    "from datetime import datetime, timedelta"
   ]
  },
  {
   "cell_type": "code",
   "execution_count": 2,
   "metadata": {
    "collapsed": true
   },
   "outputs": [],
   "source": [
    "data_set = utils.Dataset(root_dir='data/bcolz_test')"
   ]
  },
  {
   "cell_type": "code",
   "execution_count": 9,
   "metadata": {
    "collapsed": false
   },
   "outputs": [
    {
     "data": {
      "text/plain": [
       "(10, 1, 4096)"
      ]
     },
     "execution_count": 9,
     "metadata": {},
     "output_type": "execute_result"
    }
   ],
   "source": [
    "data_set.get_random_batch()[1].shape"
   ]
  },
  {
   "cell_type": "code",
   "execution_count": 4,
   "metadata": {
    "collapsed": true
   },
   "outputs": [],
   "source": [
    "# EMBEDDING CLASS TO BE USED\n",
    "class Embedding:\n",
    "    def __init__(self, topology='vgg16'):\n",
    "        self.topology = topology\n",
    "        self.network = keras.applications.vgg16.VGG16(include_top=True, weights='imagenet',\n",
    "                                                      input_tensor=None,input_shape=None,\n",
    "                                                      pooling=None, classes=1000)\n",
    "        self.network.layers.pop() # Get rid of the classification layer\n",
    "        self.network.outputs = [self.network.layers[-1].output]\n",
    "        self.network.layers[-1].outbound_nodes = []\n",
    "        for layer in self.network.layers: layer.trainable=False\n",
    "    def get_vector(self, batch):\n",
    "        return self.network.predict(batch)"
   ]
  },
  {
   "cell_type": "code",
   "execution_count": null,
   "metadata": {
    "collapsed": true
   },
   "outputs": [],
   "source": [
    "a = np.arange(10)\n",
    "b = bcolz.carray(a)\n",
    "c = bcolz.carray(a, rootdir='data')\n",
    "c.flush()"
   ]
  },
  {
   "cell_type": "code",
   "execution_count": null,
   "metadata": {
    "collapsed": true
   },
   "outputs": [],
   "source": [
    "API_KEY = 'J9rmStnqj0ZhQFObVxh81O84hb7UQZjY'\n",
    "N_FILES = 100\n",
    "SEARCH_TERM = 'cat'"
   ]
  },
  {
   "cell_type": "code",
   "execution_count": null,
   "metadata": {
    "collapsed": true
   },
   "outputs": [],
   "source": [
    "api_path = \"http://api.giphy.com/v1/gifs/search?q={}&api_key={}&limit={}\".format(SEARCH_TERM, API_KEY, N_FILES)\n",
    "data = json.loads(urllib.urlopen(api_path).read())"
   ]
  },
  {
   "cell_type": "code",
   "execution_count": null,
   "metadata": {
    "collapsed": true
   },
   "outputs": [],
   "source": [
    "utils.save_files(data,SEARCH_TERM)"
   ]
  },
  {
   "cell_type": "code",
   "execution_count": null,
   "metadata": {
    "collapsed": true
   },
   "outputs": [],
   "source": [
    "import os\n",
    "for gif_file in os.listdir('gifs'):\n",
    "    print 'gifs/'+gif_file"
   ]
  },
  {
   "cell_type": "code",
   "execution_count": null,
   "metadata": {
    "collapsed": false
   },
   "outputs": [],
   "source": [
    "gif_file = 'cat_93.gif'\n",
    "gif_file_path = 'gifs/'+gif_file\n",
    "frames = utils.processImage(gif_file_path, reshape_to_vgg=True)\n",
    "np.shape(frames)\n",
    "\n",
    "pyplot.imshow(frames[0])"
   ]
  },
  {
   "cell_type": "code",
   "execution_count": null,
   "metadata": {
    "collapsed": true
   },
   "outputs": [],
   "source": [
    "import h5py as h5py"
   ]
  },
  {
   "cell_type": "code",
   "execution_count": null,
   "metadata": {
    "collapsed": false
   },
   "outputs": [],
   "source": [
    "embeddings = Embedding()"
   ]
  },
  {
   "cell_type": "code",
   "execution_count": null,
   "metadata": {
    "collapsed": false
   },
   "outputs": [],
   "source": [
    "start_time = datetime.now()\n",
    "embedding_matrix = embeddings.get_vector(data)\n",
    "round(timedelta.total_seconds(datetime.now()-start_time)/60,2)"
   ]
  },
  {
   "cell_type": "code",
   "execution_count": null,
   "metadata": {
    "collapsed": false
   },
   "outputs": [],
   "source": [
    "start_time = datetime.now()\n",
    "embedding_matrix = embeddings.get_vector(frames)\n",
    "round(timedelta.total_seconds(datetime.now()-start_time)/60,2)"
   ]
  },
  {
   "cell_type": "code",
   "execution_count": null,
   "metadata": {
    "collapsed": false
   },
   "outputs": [],
   "source": [
    "embedding_matrix.shape\n",
    "# in numpy slicing, last element is exclusive\n",
    "# ex x[0:2,:] = x[[0,1],:]\n",
    "max_index = embedding_matrix.shape[0]\n",
    "seq_length = 10\n",
    "data_dict = {}\n",
    "data_arr = []\n",
    "target_arr = []\n",
    "for i in range(max_index-seq_length):\n",
    "    start_ix = i\n",
    "    end_ix = i+seq_length\n",
    "    target_ix = end_ix\n",
    "    data_arr.append(embedding_matrix[start_ix:end_ix,:])\n",
    "    target_arr.append(embedding_matrix[[target_ix],:])"
   ]
  },
  {
   "cell_type": "code",
   "execution_count": null,
   "metadata": {
    "collapsed": false
   },
   "outputs": [],
   "source": [
    "np.array(data_arr).shape,np.array(target_arr).shape"
   ]
  },
  {
   "cell_type": "markdown",
   "metadata": {},
   "source": [
    "### Preparing the data for the LSTM"
   ]
  },
  {
   "cell_type": "code",
   "execution_count": 10,
   "metadata": {
    "collapsed": true
   },
   "outputs": [],
   "source": [
    "import tensorflow as tf\n",
    "import numpy as np\n",
    "import pandas as pd"
   ]
  },
  {
   "cell_type": "code",
   "execution_count": 11,
   "metadata": {
    "collapsed": false
   },
   "outputs": [],
   "source": [
    "def toy_input_fn():\n",
    "    x = np.array([np.random.randint(high=255, low=0, size=(10,255))\n",
    "                 for _ in range(5)])\n",
    "    y = np.array([np.random.randint(high=255, low=0, size=(255))\n",
    "                  for _ in range(5)])\n",
    "    \n",
    "    return x, y                   "
   ]
  },
  {
   "cell_type": "code",
   "execution_count": 12,
   "metadata": {
    "collapsed": false
   },
   "outputs": [
    {
     "data": {
      "text/plain": [
       "((5, 10, 255), (5, 255))"
      ]
     },
     "execution_count": 12,
     "metadata": {},
     "output_type": "execute_result"
    }
   ],
   "source": [
    "x, y = toy_input_fn()\n",
    "x.shape, y.shape"
   ]
  },
  {
   "cell_type": "code",
   "execution_count": 13,
   "metadata": {
    "collapsed": true
   },
   "outputs": [],
   "source": [
    "INPUT_EMBEDDING_SIZE = 4096\n",
    "OUTPUT_EMBEDDING_SIZE = 4096\n",
    "IS_TRAINING = True\n",
    "N_HIDDEN = 512\n",
    "N_UNITS = 2\n",
    "N_STEPS = 10\n",
    "BATCH_SIZE = 5"
   ]
  },
  {
   "cell_type": "code",
   "execution_count": 36,
   "metadata": {
    "collapsed": false
   },
   "outputs": [],
   "source": [
    "def build_model(output_embedding_size=OUTPUT_EMBEDDING_SIZE,\n",
    "                input_embedding_size=INPUT_EMBEDDING_SIZE,\n",
    "                is_training=IS_TRAINING,\n",
    "                n_hidden=N_HIDDEN,\n",
    "                n_units=N_UNITS,\n",
    "                n_steps=N_STEPS,\n",
    "                batch_size=BATCH_SIZE):\n",
    "    \"\"\"\n",
    "    Builds the model for the LSTM model\n",
    "    :param vocab_size: Size of the vocab from the input function\n",
    "    :param is_training: Boolean, true when training\n",
    "    :param n_hidden: N hidden units\n",
    "    :param n_units: N LSTM units\n",
    "    :param embedding_size: Size of the embedding dimensions\n",
    "    :param n_steps: N timesteps we train over\n",
    "    :return:\n",
    "           predictions: Softmax prediction over words\n",
    "           loss: Loss from current batch\n",
    "           x: Placeholder for inputs\n",
    "           y: Placeholder for labels\n",
    "    \"\"\"\n",
    "  \n",
    "    with tf.name_scope(\"placeholders\"):\n",
    "        x = tf.placeholder(dtype=tf.int32, shape=[None, n_steps, input_embedding_size])\n",
    "        y = tf.placeholder(dtype=tf.int32, shape=[None, output_embedding_size])\n",
    "        seq_length = tf.placeholder(tf.int32, [None])\n",
    "\n",
    "    # Creates the actual model using embeddings as input\n",
    "    with tf.name_scope(\"model\"):\n",
    "        lstm_cells = [tf.contrib.rnn.BasicLSTMCell(num_units=n_hidden)\n",
    "                      for _ in range(n_units)]\n",
    "       \n",
    "        multi_cell = tf.contrib.rnn.MultiRNNCell(lstm_cells)\n",
    "        inputs = tf.cast(x, tf.float32)\n",
    "        outputs, states = tf.nn.dynamic_rnn(multi_cell, inputs, dtype=tf.float32)\n",
    "        top_layer_h_state = states[-1][1]\n",
    "\n",
    "        hidden1 = tf.layers.dense(top_layer_h_state, units=n_hidden, activation=tf.nn.relu)\n",
    "        dropout_1 = tf.layers.dropout(hidden1, rate=0.1, training=is_training)\n",
    "        predictions = tf.layers.dense(dropout_1, units=output_embedding_size, activation=None)\n",
    "        mse = tf.losses.mean_squared_error(\n",
    "            labels=y,\n",
    "            predictions=predictions)\n",
    "        loss = tf.reduce_mean(mse)\n",
    "\n",
    "        return predictions, loss, x, y"
   ]
  },
  {
   "cell_type": "code",
   "execution_count": 39,
   "metadata": {
    "collapsed": false
   },
   "outputs": [
    {
     "data": {
      "text/plain": [
       "array([[ 0.        ,  0.        ,  0.91362238, ...,  0.        ,\n",
       "         0.24242821,  0.        ],\n",
       "       [ 0.        ,  0.        ,  1.16180694, ...,  0.        ,\n",
       "         0.57084882,  0.        ],\n",
       "       [ 0.        ,  0.        ,  1.02322435, ...,  0.        ,\n",
       "         0.0239915 ,  0.        ],\n",
       "       ..., \n",
       "       [ 0.        ,  0.        ,  0.93392682, ...,  0.        ,\n",
       "         0.        ,  0.        ],\n",
       "       [ 0.        ,  0.        ,  1.22077608, ...,  0.        ,\n",
       "         0.        ,  0.        ],\n",
       "       [ 0.        ,  0.        ,  1.81007099, ...,  0.        ,\n",
       "         0.        ,  0.        ]], dtype=float32)"
      ]
     },
     "execution_count": 39,
     "metadata": {},
     "output_type": "execute_result"
    }
   ],
   "source": [
    "data_set.data[0]"
   ]
  },
  {
   "cell_type": "code",
   "execution_count": 46,
   "metadata": {
    "collapsed": false
   },
   "outputs": [
    {
     "ename": "AttributeError",
     "evalue": "'range' object has no attribute 'pop'",
     "output_type": "error",
     "traceback": [
      "\u001b[0;31m---------------------------------------------------------------------------\u001b[0m",
      "\u001b[0;31mAttributeError\u001b[0m                            Traceback (most recent call last)",
      "\u001b[0;32m<ipython-input-46-21a6c1d534df>\u001b[0m in \u001b[0;36m<module>\u001b[0;34m()\u001b[0m\n\u001b[1;32m      2\u001b[0m \u001b[0;32mwith\u001b[0m \u001b[0mg\u001b[0m\u001b[0;34m.\u001b[0m\u001b[0mas_default\u001b[0m\u001b[0;34m(\u001b[0m\u001b[0;34m)\u001b[0m\u001b[0;34m:\u001b[0m\u001b[0;34m\u001b[0m\u001b[0m\n\u001b[1;32m      3\u001b[0m     \u001b[0msess\u001b[0m \u001b[0;34m=\u001b[0m \u001b[0mtf\u001b[0m\u001b[0;34m.\u001b[0m\u001b[0mInteractiveSession\u001b[0m\u001b[0;34m(\u001b[0m\u001b[0;34m)\u001b[0m\u001b[0;34m\u001b[0m\u001b[0m\n\u001b[0;32m----> 4\u001b[0;31m     \u001b[0mx_batch\u001b[0m\u001b[0;34m,\u001b[0m \u001b[0my_batch\u001b[0m \u001b[0;34m=\u001b[0m \u001b[0mdata_set\u001b[0m\u001b[0;34m.\u001b[0m\u001b[0mget_random_batch\u001b[0m\u001b[0;34m(\u001b[0m\u001b[0mreplace\u001b[0m\u001b[0;34m=\u001b[0m\u001b[0;32mFalse\u001b[0m\u001b[0;34m)\u001b[0m\u001b[0;34m\u001b[0m\u001b[0m\n\u001b[0m\u001b[1;32m      5\u001b[0m     \u001b[0my_batch\u001b[0m \u001b[0;34m=\u001b[0m \u001b[0mnp\u001b[0m\u001b[0;34m.\u001b[0m\u001b[0mreshape\u001b[0m\u001b[0;34m(\u001b[0m\u001b[0my_batch\u001b[0m\u001b[0;34m,\u001b[0m \u001b[0;34m[\u001b[0m\u001b[0;36m10\u001b[0m\u001b[0;34m,\u001b[0m \u001b[0;36m4096\u001b[0m\u001b[0;34m]\u001b[0m\u001b[0;34m)\u001b[0m\u001b[0;34m\u001b[0m\u001b[0m\n\u001b[1;32m      6\u001b[0m     \u001b[0mpredictions\u001b[0m\u001b[0;34m,\u001b[0m \u001b[0mloss\u001b[0m\u001b[0;34m,\u001b[0m \u001b[0mx\u001b[0m\u001b[0;34m,\u001b[0m \u001b[0my\u001b[0m \u001b[0;34m=\u001b[0m \u001b[0mbuild_model\u001b[0m\u001b[0;34m(\u001b[0m\u001b[0;34m)\u001b[0m\u001b[0;34m\u001b[0m\u001b[0m\n",
      "\u001b[0;32m/Users/mikkeld/Python/GIF/utils.py\u001b[0m in \u001b[0;36mget_random_batch\u001b[0;34m(self, batch_size, replace)\u001b[0m\n\u001b[1;32m    191\u001b[0m                                                  \u001b[0msize\u001b[0m\u001b[0;34m=\u001b[0m\u001b[0;34m[\u001b[0m\u001b[0;36m1\u001b[0m\u001b[0;34m]\u001b[0m\u001b[0;34m,\u001b[0m\u001b[0;34m\u001b[0m\u001b[0m\n\u001b[1;32m    192\u001b[0m                                                  replace=False)\n\u001b[0;32m--> 193\u001b[0;31m                     \u001b[0mbatch_idxs\u001b[0m\u001b[0;34m.\u001b[0m\u001b[0mappend\u001b[0m\u001b[0;34m(\u001b[0m\u001b[0mself\u001b[0m\u001b[0;34m.\u001b[0m\u001b[0m_remaining\u001b[0m\u001b[0;34m.\u001b[0m\u001b[0mpop\u001b[0m\u001b[0;34m(\u001b[0m\u001b[0mbatch_idx\u001b[0m\u001b[0;34m)\u001b[0m\u001b[0;34m)\u001b[0m\u001b[0;34m\u001b[0m\u001b[0m\n\u001b[0m\u001b[1;32m    194\u001b[0m             \u001b[0;32mif\u001b[0m \u001b[0mlen\u001b[0m\u001b[0;34m(\u001b[0m\u001b[0mself\u001b[0m\u001b[0;34m.\u001b[0m\u001b[0m_remaining\u001b[0m\u001b[0;34m)\u001b[0m \u001b[0;34m==\u001b[0m \u001b[0;36m0\u001b[0m\u001b[0;34m:\u001b[0m\u001b[0;34m\u001b[0m\u001b[0m\n\u001b[1;32m    195\u001b[0m                 \u001b[0mself\u001b[0m\u001b[0;34m.\u001b[0m\u001b[0mreset_batch\u001b[0m\u001b[0;34m(\u001b[0m\u001b[0;34m)\u001b[0m\u001b[0;34m\u001b[0m\u001b[0m\n",
      "\u001b[0;31mAttributeError\u001b[0m: 'range' object has no attribute 'pop'"
     ]
    }
   ],
   "source": [
    "g = tf.Graph()\n",
    "with g.as_default():\n",
    "    sess = tf.InteractiveSession()\n",
    "    x_batch, y_batch = data_set.get_random_batch(replace=False)\n",
    "    y_batch = np.reshape(y_batch, [10, 4096])\n",
    "    predictions, loss, x, y = build_model()    \n",
    "    sess.run(tf.global_variables_initializer())\n",
    "    predictions_out, loss_out = sess.run([predictions, loss], feed_dict={x: x_batch, y: y_batch})\n",
    "    print(predictions_out.shape, loss_out)"
   ]
  },
  {
   "cell_type": "code",
   "execution_count": 48,
   "metadata": {
    "collapsed": true
   },
   "outputs": [],
   "source": [
    "??data_set.get_random_batch\n"
   ]
  }
 ],
 "metadata": {
  "kernelspec": {
   "display_name": "Python [conda root]",
   "language": "python",
   "name": "conda-root-py"
  },
  "language_info": {
   "codemirror_mode": {
    "name": "ipython",
    "version": 3
   },
   "file_extension": ".py",
   "mimetype": "text/x-python",
   "name": "python",
   "nbconvert_exporter": "python",
   "pygments_lexer": "ipython3",
   "version": "3.5.2"
  }
 },
 "nbformat": 4,
 "nbformat_minor": 2
}
