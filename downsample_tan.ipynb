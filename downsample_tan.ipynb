{
 "cells": [
  {
   "cell_type": "code",
   "execution_count": 23,
   "metadata": {},
   "outputs": [
    {
     "name": "stdout",
     "output_type": "stream",
     "text": [
      "utils has been reloaded\n"
     ]
    }
   ],
   "source": [
    "import tensorflow as tf\n",
    "import numpy as np\n",
    "try:\n",
    "    utils\n",
    "except:\n",
    "    import utils\n",
    "else:    \n",
    "    reload(utils)\n",
    "    print 'utils has been reloaded'"
   ]
  },
  {
   "cell_type": "code",
   "execution_count": 14,
   "metadata": {
    "collapsed": true
   },
   "outputs": [],
   "source": [
    "data_set = utils.Dataset(root_dir='data/gifs_300')"
   ]
  },
  {
   "cell_type": "code",
   "execution_count": 18,
   "metadata": {},
   "outputs": [],
   "source": [
    "data, target = data_set.get_random_batch(128,replace=False)"
   ]
  },
  {
   "cell_type": "code",
   "execution_count": 24,
   "metadata": {},
   "outputs": [
    {
     "data": {
      "text/plain": [
       "array([[ 0.        ,  0.        ,  0.        , ...,  0.        ,\n",
       "         3.81469107,  0.        ],\n",
       "       [ 0.        ,  0.        ,  1.4684962 , ...,  1.66902184,\n",
       "         0.        ,  1.48337054],\n",
       "       [ 0.        ,  0.        ,  2.59314251, ...,  0.        ,\n",
       "         0.22463134,  0.        ],\n",
       "       ..., \n",
       "       [ 0.27926549,  0.        ,  0.        , ...,  0.        ,\n",
       "         0.73570234,  0.        ],\n",
       "       [ 0.        ,  0.        ,  4.73075771, ...,  0.        ,\n",
       "         0.        ,  0.        ],\n",
       "       [ 0.        ,  0.        ,  2.53340435, ...,  0.22958773,\n",
       "         0.        ,  0.        ]], dtype=float32)"
      ]
     },
     "execution_count": 24,
     "metadata": {},
     "output_type": "execute_result"
    }
   ],
   "source": [
    "np.reshape(data[:,0,:],[data.shape[0],data.shape[2]])"
   ]
  },
  {
   "cell_type": "code",
   "execution_count": 152,
   "metadata": {},
   "outputs": [],
   "source": [
    "INPUT_EMBEDDING_SIZE = 4096\n",
    "OUTPUT_EMBEDDING_SIZE = 4096\n",
    "IS_TRAINING = True\n",
    "N_HIDDEN = 128\n",
    "# N_STEPS = 10\n",
    "# BATCH_SIZE = 5"
   ]
  },
  {
   "cell_type": "code",
   "execution_count": 155,
   "metadata": {},
   "outputs": [],
   "source": [
    "def build_model(output_embedding_size=OUTPUT_EMBEDDING_SIZE,\n",
    "                input_embedding_size=INPUT_EMBEDDING_SIZE,\n",
    "                is_training=IS_TRAINING,\n",
    "                n_hidden=N_HIDDEN\n",
    "               ):\n",
    "    \"\"\"\n",
    "    Builds the model for the LSTM model\n",
    "    :param vocab_size: Size of the vocab from the input function\n",
    "    :param is_training: Boolean, true when training\n",
    "    :param n_hidden: N hidden units\n",
    "    :param n_units: N LSTM units\n",
    "    :param embedding_size: Size of the embedding dimensions\n",
    "    :param n_steps: N timesteps we train over\n",
    "    :return:\n",
    "           predictions: Softmax prediction over words\n",
    "           loss: Loss from current batch\n",
    "           x: Placeholder for inputs\n",
    "           y: Placeholder for labels\n",
    "    \"\"\"\n",
    "    with tf.name_scope(\"placeholders\"):\n",
    "        x = tf.placeholder(dtype=tf.int32, shape=[None, input_embedding_size])\n",
    "        y = tf.placeholder(dtype=tf.int32, shape=[None, output_embedding_size])\n",
    "        #learning_rate = tf.placeholder(tf.int32, [None])\n",
    "\n",
    "    # Creates the actual model using embeddings as input\n",
    "    with tf.name_scope(\"model\"):\n",
    "        inputs = tf.cast(x, tf.float32)\n",
    "        hidden1 = tf.layers.dense(inputs, units=n_hidden, activation=tf.nn.relu)\n",
    "        dropout_1 = tf.layers.dropout(hidden1, rate=0, training=is_training)\n",
    "        predictions = tf.layers.dense(dropout_1, units=output_embedding_size, activation=None)\n",
    "        mse = tf.losses.mean_squared_error(labels=y,\n",
    "                                           predictions=predictions)\n",
    "#         cde = tf.losses.cosine_distance(labels=y,\n",
    "#                                         predictions=predictions)\n",
    "        loss = tf.reduce_mean(mse)\n",
    "        optimizer = tf.train.AdagradOptimizer(learning_rate=0.00001)\n",
    "        train_step = optimizer.minimize(mse)\n",
    "        \n",
    "#         learning_rate = tf.train.exponential_decay(\n",
    "#             0.01,                # Base learning rate.\n",
    "#             batch * BATCH_SIZE,  # Current index into the dataset.\n",
    "#             train_size,          # Decay step.\n",
    "#             0.95,                # Decay rate.\n",
    "#             staircase=True)\n",
    "#         # Use simple momentum for the optimization\n",
    "#         optimizer = tf.train.MomentumOptimizer(learning_rate,\n",
    "#                                                0.9).minimize(loss,\n",
    "#                                                              global_step=batch)\n",
    "        return predictions, loss, x, y,dropout_1,train_step"
   ]
  },
  {
   "cell_type": "code",
   "execution_count": null,
   "metadata": {},
   "outputs": [
    {
     "name": "stdout",
     "output_type": "stream",
     "text": [
      "((128, 4096), 1.0452249)\n",
      "((70, 4096), 0.95786232)\n",
      "((128, 4096), 0.97341549)\n"
     ]
    }
   ],
   "source": [
    "g = tf.Graph()\n",
    "with g.as_default():\n",
    "    sess = tf.InteractiveSession()\n",
    "    for i in range(100):\n",
    "        data, _ = data_set.get_random_batch(128, replace=False)\n",
    "        x_batch = np.reshape(data[:,np.random.choice(data.shape[1]),:],\n",
    "                             [data.shape[0],data.shape[2]])\n",
    "        y_batch = x_batch\n",
    "        predictions, loss, x, y,dropout_1,train_step = build_model()    \n",
    "        sess.run(tf.global_variables_initializer())\n",
    "        predictions_out, loss_out,dropout_1,train_step = sess.run([predictions, loss, dropout_1, train_step],\n",
    "                                             feed_dict={x: x_batch,\n",
    "                                                        y: y_batch})\n",
    "        if i%10 == 0:\n",
    "            print(predictions_out.shape, loss_out)\n",
    "        "
   ]
  },
  {
   "cell_type": "code",
   "execution_count": 127,
   "metadata": {},
   "outputs": [
    {
     "data": {
      "text/plain": [
       "<tf.Tensor 'batch_normalization_3/batchnorm/add_1:0' shape=(70, 4096) dtype=float32>"
      ]
     },
     "execution_count": 127,
     "metadata": {},
     "output_type": "execute_result"
    }
   ],
   "source": [
    "tf.layers.batch_normalization(tf.cast(x_batch, tf.float32))"
   ]
  },
  {
   "cell_type": "code",
   "execution_count": 145,
   "metadata": {},
   "outputs": [
    {
     "data": {
      "text/plain": [
       "0.94178534"
      ]
     },
     "execution_count": 145,
     "metadata": {},
     "output_type": "execute_result"
    }
   ],
   "source": [
    "loss_out"
   ]
  },
  {
   "cell_type": "code",
   "execution_count": 139,
   "metadata": {},
   "outputs": [
    {
     "name": "stderr",
     "output_type": "stream",
     "text": [
      "Using TensorFlow backend.\n"
     ]
    }
   ],
   "source": [
    "from keras.layers import Dense\n",
    "from keras.models import Sequential"
   ]
  },
  {
   "cell_type": "code",
   "execution_count": null,
   "metadata": {
    "collapsed": true
   },
   "outputs": [],
   "source": []
  }
 ],
 "metadata": {
  "kernelspec": {
   "display_name": "Python 2",
   "language": "python",
   "name": "python2"
  },
  "language_info": {
   "codemirror_mode": {
    "name": "ipython",
    "version": 2
   },
   "file_extension": ".py",
   "mimetype": "text/x-python",
   "name": "python",
   "nbconvert_exporter": "python",
   "pygments_lexer": "ipython2",
   "version": "2.7.10"
  }
 },
 "nbformat": 4,
 "nbformat_minor": 2
}
